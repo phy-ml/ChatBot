{
 "cells": [
  {
   "cell_type": "code",
   "execution_count": 1,
   "metadata": {},
   "outputs": [],
   "source": [
    "import numpy as np\n",
    "import pandas as pd\n",
    "import matplotlib.pyplot as plt\n",
    "%matplotlib inline\n",
    "from imblearn.over_sampling  import RandomOverSampler\n",
    "from imblearn.under_sampling import RandomUnderSampler\n",
    "from collections import Counter"
   ]
  },
  {
   "cell_type": "code",
   "execution_count": 2,
   "metadata": {},
   "outputs": [],
   "source": [
    "# load the train dataset\n",
    "data = pd.read_csv('data/atis_intents_train.csv')\n",
    "data.columns = ['intent','text']"
   ]
  },
  {
   "cell_type": "code",
   "execution_count": 3,
   "metadata": {},
   "outputs": [
    {
     "data": {
      "text/html": [
       "<div>\n",
       "<style scoped>\n",
       "    .dataframe tbody tr th:only-of-type {\n",
       "        vertical-align: middle;\n",
       "    }\n",
       "\n",
       "    .dataframe tbody tr th {\n",
       "        vertical-align: top;\n",
       "    }\n",
       "\n",
       "    .dataframe thead th {\n",
       "        text-align: right;\n",
       "    }\n",
       "</style>\n",
       "<table border=\"1\" class=\"dataframe\">\n",
       "  <thead>\n",
       "    <tr style=\"text-align: right;\">\n",
       "      <th></th>\n",
       "      <th>intent</th>\n",
       "      <th>text</th>\n",
       "    </tr>\n",
       "  </thead>\n",
       "  <tbody>\n",
       "    <tr>\n",
       "      <th>0</th>\n",
       "      <td>atis_abbreviation</td>\n",
       "      <td>147</td>\n",
       "    </tr>\n",
       "    <tr>\n",
       "      <th>1</th>\n",
       "      <td>atis_aircraft</td>\n",
       "      <td>81</td>\n",
       "    </tr>\n",
       "    <tr>\n",
       "      <th>2</th>\n",
       "      <td>atis_airfare</td>\n",
       "      <td>423</td>\n",
       "    </tr>\n",
       "    <tr>\n",
       "      <th>3</th>\n",
       "      <td>atis_airline</td>\n",
       "      <td>157</td>\n",
       "    </tr>\n",
       "    <tr>\n",
       "      <th>4</th>\n",
       "      <td>atis_flight</td>\n",
       "      <td>3665</td>\n",
       "    </tr>\n",
       "    <tr>\n",
       "      <th>5</th>\n",
       "      <td>atis_flight_time</td>\n",
       "      <td>54</td>\n",
       "    </tr>\n",
       "    <tr>\n",
       "      <th>6</th>\n",
       "      <td>atis_ground_service</td>\n",
       "      <td>255</td>\n",
       "    </tr>\n",
       "    <tr>\n",
       "      <th>7</th>\n",
       "      <td>atis_quantity</td>\n",
       "      <td>51</td>\n",
       "    </tr>\n",
       "  </tbody>\n",
       "</table>\n",
       "</div>"
      ],
      "text/plain": [
       "                intent  text\n",
       "0    atis_abbreviation   147\n",
       "1        atis_aircraft    81\n",
       "2         atis_airfare   423\n",
       "3         atis_airline   157\n",
       "4          atis_flight  3665\n",
       "5     atis_flight_time    54\n",
       "6  atis_ground_service   255\n",
       "7        atis_quantity    51"
      ]
     },
     "execution_count": 3,
     "metadata": {},
     "output_type": "execute_result"
    }
   ],
   "source": [
    "data.groupby('intent')['text'].count().reset_index()"
   ]
  },
  {
   "cell_type": "code",
   "execution_count": 4,
   "metadata": {},
   "outputs": [
    {
     "data": {
      "text/plain": [
       "atis_flight            75.832816\n",
       "atis_airfare            8.752328\n",
       "atis_ground_service     5.276226\n",
       "atis_airline            3.248500\n",
       "atis_abbreviation       3.041589\n",
       "atis_aircraft           1.675978\n",
       "atis_flight_time        1.117318\n",
       "atis_quantity           1.055245\n",
       "Name: intent, dtype: float64"
      ]
     },
     "execution_count": 4,
     "metadata": {},
     "output_type": "execute_result"
    }
   ],
   "source": [
    "data['intent'].value_counts(normalize=True)*100"
   ]
  },
  {
   "cell_type": "code",
   "execution_count": 5,
   "metadata": {},
   "outputs": [
    {
     "data": {
      "text/plain": [
       "<AxesSubplot:>"
      ]
     },
     "execution_count": 5,
     "metadata": {},
     "output_type": "execute_result"
    },
    {
     "data": {
      "image/png": "[encoded data removed]",
      "text/plain": [
       "<Figure size 432x288 with 1 Axes>"
      ]
     },
     "metadata": {
      "needs_background": "light"
     },
     "output_type": "display_data"
    }
   ],
   "source": [
    "data['intent'].value_counts(normalize=True).plot(kind='bar')"
   ]
  },
  {
   "cell_type": "code",
   "execution_count": 6,
   "metadata": {},
   "outputs": [],
   "source": [
    "train_x = np.array(data['text'].values).reshape(-1,1)\n",
    "train_y = np.array(data['intent'].values).reshape(-1,1)"
   ]
  },
  {
   "cell_type": "code",
   "execution_count": 7,
   "metadata": {},
   "outputs": [
    {
     "data": {
      "text/plain": [
       "Counter({'atis_flight': 3665,\n",
       "         'atis_flight_time': 54,\n",
       "         'atis_airfare': 423,\n",
       "         'atis_aircraft': 81,\n",
       "         'atis_ground_service': 255,\n",
       "         'atis_airline': 157,\n",
       "         'atis_abbreviation': 147,\n",
       "         'atis_quantity': 51})"
      ]
     },
     "execution_count": 7,
     "metadata": {},
     "output_type": "execute_result"
    }
   ],
   "source": [
    "# Counter(train_y)\n",
    "Counter(data['intent'].values)"
   ]
  },
  {
   "cell_type": "code",
   "execution_count": 8,
   "metadata": {},
   "outputs": [],
   "source": [
    "strategy = {'atis_flight': 170,\n",
    "         'atis_flight_time': 54,\n",
    "         'atis_airfare': 170,\n",
    "         'atis_aircraft': 81,\n",
    "         'atis_ground_service': 170,\n",
    "         'atis_airline': 157,\n",
    "         'atis_abbreviation': 147,\n",
    "         'atis_quantity': 51}"
   ]
  },
  {
   "cell_type": "code",
   "execution_count": 9,
   "metadata": {},
   "outputs": [
    {
     "data": {
      "text/plain": [
       "166.85714285714286"
      ]
     },
     "execution_count": 9,
     "metadata": {},
     "output_type": "execute_result"
    }
   ],
   "source": [
    "(54+423+81+255+157+147+51)/7"
   ]
  },
  {
   "cell_type": "code",
   "execution_count": 10,
   "metadata": {},
   "outputs": [],
   "source": [
    "rus = RandomUnderSampler(sampling_strategy=strategy,random_state=0)\n",
    "# rus.fit(train_x,train_y)\n",
    "X_resampled, y_resampled = rus.fit_resample(train_x,train_y)"
   ]
  },
  {
   "cell_type": "code",
   "execution_count": 11,
   "metadata": {},
   "outputs": [
    {
     "data": {
      "text/plain": [
       "<AxesSubplot:>"
      ]
     },
     "execution_count": 11,
     "metadata": {},
     "output_type": "execute_result"
    },
    {
     "data": {
      "image/png": "[encoded data removed]",
      "text/plain": [
       "<Figure size 432x288 with 1 Axes>"
      ]
     },
     "metadata": {
      "needs_background": "light"
     },
     "output_type": "display_data"
    }
   ],
   "source": [
    "df = pd.DataFrame()\n",
    "df['text'] = [i[0] for i in X_resampled.tolist()]\n",
    "df['intent'] = y_resampled.tolist()\n",
    "df['intent'].value_counts(normalize=True).plot(kind='bar')"
   ]
  },
  {
   "cell_type": "code",
   "execution_count": 12,
   "metadata": {},
   "outputs": [
    {
     "data": {
      "text/html": [
       "<div>\n",
       "<style scoped>\n",
       "    .dataframe tbody tr th:only-of-type {\n",
       "        vertical-align: middle;\n",
       "    }\n",
       "\n",
       "    .dataframe tbody tr th {\n",
       "        vertical-align: top;\n",
       "    }\n",
       "\n",
       "    .dataframe thead th {\n",
       "        text-align: right;\n",
       "    }\n",
       "</style>\n",
       "<table border=\"1\" class=\"dataframe\">\n",
       "  <thead>\n",
       "    <tr style=\"text-align: right;\">\n",
       "      <th></th>\n",
       "      <th>intent</th>\n",
       "      <th>text</th>\n",
       "    </tr>\n",
       "  </thead>\n",
       "  <tbody>\n",
       "    <tr>\n",
       "      <th>0</th>\n",
       "      <td>atis_abbreviation</td>\n",
       "      <td>147</td>\n",
       "    </tr>\n",
       "    <tr>\n",
       "      <th>1</th>\n",
       "      <td>atis_aircraft</td>\n",
       "      <td>81</td>\n",
       "    </tr>\n",
       "    <tr>\n",
       "      <th>2</th>\n",
       "      <td>atis_airfare</td>\n",
       "      <td>170</td>\n",
       "    </tr>\n",
       "    <tr>\n",
       "      <th>3</th>\n",
       "      <td>atis_airline</td>\n",
       "      <td>157</td>\n",
       "    </tr>\n",
       "    <tr>\n",
       "      <th>4</th>\n",
       "      <td>atis_flight</td>\n",
       "      <td>170</td>\n",
       "    </tr>\n",
       "    <tr>\n",
       "      <th>5</th>\n",
       "      <td>atis_flight_time</td>\n",
       "      <td>54</td>\n",
       "    </tr>\n",
       "    <tr>\n",
       "      <th>6</th>\n",
       "      <td>atis_ground_service</td>\n",
       "      <td>170</td>\n",
       "    </tr>\n",
       "    <tr>\n",
       "      <th>7</th>\n",
       "      <td>atis_quantity</td>\n",
       "      <td>51</td>\n",
       "    </tr>\n",
       "  </tbody>\n",
       "</table>\n",
       "</div>"
      ],
      "text/plain": [
       "                intent  text\n",
       "0    atis_abbreviation   147\n",
       "1        atis_aircraft    81\n",
       "2         atis_airfare   170\n",
       "3         atis_airline   157\n",
       "4          atis_flight   170\n",
       "5     atis_flight_time    54\n",
       "6  atis_ground_service   170\n",
       "7        atis_quantity    51"
      ]
     },
     "execution_count": 12,
     "metadata": {},
     "output_type": "execute_result"
    }
   ],
   "source": [
    "df.groupby('intent')['text'].count().reset_index()"
   ]
  },
  {
   "cell_type": "code",
   "execution_count": 13,
   "metadata": {},
   "outputs": [
    {
     "data": {
      "text/html": [
       "<div>\n",
       "<style scoped>\n",
       "    .dataframe tbody tr th:only-of-type {\n",
       "        vertical-align: middle;\n",
       "    }\n",
       "\n",
       "    .dataframe tbody tr th {\n",
       "        vertical-align: top;\n",
       "    }\n",
       "\n",
       "    .dataframe thead th {\n",
       "        text-align: right;\n",
       "    }\n",
       "</style>\n",
       "<table border=\"1\" class=\"dataframe\">\n",
       "  <thead>\n",
       "    <tr style=\"text-align: right;\">\n",
       "      <th></th>\n",
       "      <th>text</th>\n",
       "      <th>intent</th>\n",
       "    </tr>\n",
       "  </thead>\n",
       "  <tbody>\n",
       "    <tr>\n",
       "      <th>0</th>\n",
       "      <td>what does mco stand for</td>\n",
       "      <td>atis_abbreviation</td>\n",
       "    </tr>\n",
       "    <tr>\n",
       "      <th>1</th>\n",
       "      <td>what does the abbreviation co mean</td>\n",
       "      <td>atis_abbreviation</td>\n",
       "    </tr>\n",
       "    <tr>\n",
       "      <th>2</th>\n",
       "      <td>what is hp</td>\n",
       "      <td>atis_abbreviation</td>\n",
       "    </tr>\n",
       "    <tr>\n",
       "      <th>3</th>\n",
       "      <td>is fare code b the same as business class</td>\n",
       "      <td>atis_abbreviation</td>\n",
       "    </tr>\n",
       "    <tr>\n",
       "      <th>4</th>\n",
       "      <td>what does ewr mean</td>\n",
       "      <td>atis_abbreviation</td>\n",
       "    </tr>\n",
       "    <tr>\n",
       "      <th>...</th>\n",
       "      <td>...</td>\n",
       "      <td>...</td>\n",
       "    </tr>\n",
       "    <tr>\n",
       "      <th>995</th>\n",
       "      <td>how many flights does continental airlines ha...</td>\n",
       "      <td>atis_quantity</td>\n",
       "    </tr>\n",
       "    <tr>\n",
       "      <th>996</th>\n",
       "      <td>how many first class flights does delta have ...</td>\n",
       "      <td>atis_quantity</td>\n",
       "    </tr>\n",
       "    <tr>\n",
       "      <th>997</th>\n",
       "      <td>how many united flights are there from san fr...</td>\n",
       "      <td>atis_quantity</td>\n",
       "    </tr>\n",
       "    <tr>\n",
       "      <th>998</th>\n",
       "      <td>how many fares are there one way from tacoma ...</td>\n",
       "      <td>atis_quantity</td>\n",
       "    </tr>\n",
       "    <tr>\n",
       "      <th>999</th>\n",
       "      <td>how many delta flights leave from washington</td>\n",
       "      <td>atis_quantity</td>\n",
       "    </tr>\n",
       "  </tbody>\n",
       "</table>\n",
       "<p>1000 rows × 2 columns</p>\n",
       "</div>"
      ],
      "text/plain": [
       "                                                  text             intent\n",
       "0                              what does mco stand for  atis_abbreviation\n",
       "1                   what does the abbreviation co mean  atis_abbreviation\n",
       "2                                           what is hp  atis_abbreviation\n",
       "3            is fare code b the same as business class  atis_abbreviation\n",
       "4                                   what does ewr mean  atis_abbreviation\n",
       "..                                                 ...                ...\n",
       "995   how many flights does continental airlines ha...      atis_quantity\n",
       "996   how many first class flights does delta have ...      atis_quantity\n",
       "997   how many united flights are there from san fr...      atis_quantity\n",
       "998   how many fares are there one way from tacoma ...      atis_quantity\n",
       "999       how many delta flights leave from washington      atis_quantity\n",
       "\n",
       "[1000 rows x 2 columns]"
      ]
     },
     "execution_count": 13,
     "metadata": {},
     "output_type": "execute_result"
    }
   ],
   "source": [
    "df"
   ]
  },
  {
   "cell_type": "code",
   "execution_count": 14,
   "metadata": {},
   "outputs": [],
   "source": [
    "def get_response(data):\n",
    "    if data['intent'] == 'atis_abbreviation':\n",
    "        return 'Please visit atis_abbreviation.com'\n",
    "    elif data['intent'] == 'atis_aircraft':\n",
    "        return 'Please visit atis_aircraft.com'\n",
    "    elif data['intent'] == 'atis_airfare':\n",
    "        return 'Please visit atis_airfare.com'\n",
    "    elif data['intent'] == 'atis_airline':\n",
    "        return 'Please visit atis_airline.com'\n",
    "    elif data['intent'] == 'atis_flight':\n",
    "        return 'Please visit atis_flight.com'\n",
    "    elif data['intent'] == 'atis_flight_time':\n",
    "        return 'Please visit atis_flight_time.com'\n",
    "    elif data['intent'] == 'atis_ground_service':\n",
    "        return 'Please visit atis_ground_service.com'\n",
    "    elif data['intent'] == 'atis_quantity':\n",
    "        return 'Please visit atis_quantity.com'\n",
    "    \n",
    "df['response'] = df.apply(get_response, axis=1)"
   ]
  },
  {
   "cell_type": "code",
   "execution_count": null,
   "metadata": {},
   "outputs": [],
   "source": []
  },
  {
   "cell_type": "code",
   "execution_count": 15,
   "metadata": {},
   "outputs": [],
   "source": [
    "# create json file\n",
    "intents = {'intents':[]}\n",
    "for i,j in df.groupby(['intent','response'])['text'].apply(list).reset_index().iterrows():\n",
    "    intents['intents'].append({'tag':j[0],\n",
    "                              'pattern':j[2],\n",
    "                              'response':j[1],\n",
    "                              'context':[]})"
   ]
  },
  {
   "cell_type": "code",
   "execution_count": 21,
   "metadata": {},
   "outputs": [],
   "source": [
    "# intents['intents'][5]"
   ]
  },
  {
   "cell_type": "code",
   "execution_count": 16,
   "metadata": {},
   "outputs": [],
   "source": [
    "# save the json file\n",
    "import codecs, json\n",
    "with codecs.open('train_intent.json', 'w', 'utf8') as f:\n",
    "     f.write(json.dumps(intents, ensure_ascii=False))\n",
    "# intents"
   ]
  },
  {
   "cell_type": "code",
   "execution_count": null,
   "metadata": {},
   "outputs": [],
   "source": []
  },
  {
   "cell_type": "code",
   "execution_count": 17,
   "metadata": {},
   "outputs": [],
   "source": [
    "# create test intents\n",
    "test_data = pd.read_csv('data/atis_intents_test.csv')\n",
    "test_data.columns = ['intent','text']"
   ]
  },
  {
   "cell_type": "code",
   "execution_count": 18,
   "metadata": {},
   "outputs": [
    {
     "data": {
      "text/html": [
       "<div>\n",
       "<style scoped>\n",
       "    .dataframe tbody tr th:only-of-type {\n",
       "        vertical-align: middle;\n",
       "    }\n",
       "\n",
       "    .dataframe tbody tr th {\n",
       "        vertical-align: top;\n",
       "    }\n",
       "\n",
       "    .dataframe thead th {\n",
       "        text-align: right;\n",
       "    }\n",
       "</style>\n",
       "<table border=\"1\" class=\"dataframe\">\n",
       "  <thead>\n",
       "    <tr style=\"text-align: right;\">\n",
       "      <th></th>\n",
       "      <th>intent</th>\n",
       "      <th>text</th>\n",
       "    </tr>\n",
       "  </thead>\n",
       "  <tbody>\n",
       "    <tr>\n",
       "      <th>0</th>\n",
       "      <td>atis_abbreviation</td>\n",
       "      <td>33</td>\n",
       "    </tr>\n",
       "    <tr>\n",
       "      <th>1</th>\n",
       "      <td>atis_aircraft</td>\n",
       "      <td>9</td>\n",
       "    </tr>\n",
       "    <tr>\n",
       "      <th>2</th>\n",
       "      <td>atis_airfare</td>\n",
       "      <td>48</td>\n",
       "    </tr>\n",
       "    <tr>\n",
       "      <th>3</th>\n",
       "      <td>atis_airline</td>\n",
       "      <td>38</td>\n",
       "    </tr>\n",
       "    <tr>\n",
       "      <th>4</th>\n",
       "      <td>atis_flight</td>\n",
       "      <td>631</td>\n",
       "    </tr>\n",
       "    <tr>\n",
       "      <th>5</th>\n",
       "      <td>atis_flight_time</td>\n",
       "      <td>1</td>\n",
       "    </tr>\n",
       "    <tr>\n",
       "      <th>6</th>\n",
       "      <td>atis_ground_service</td>\n",
       "      <td>36</td>\n",
       "    </tr>\n",
       "    <tr>\n",
       "      <th>7</th>\n",
       "      <td>atis_quantity</td>\n",
       "      <td>3</td>\n",
       "    </tr>\n",
       "  </tbody>\n",
       "</table>\n",
       "</div>"
      ],
      "text/plain": [
       "                intent  text\n",
       "0    atis_abbreviation    33\n",
       "1        atis_aircraft     9\n",
       "2         atis_airfare    48\n",
       "3         atis_airline    38\n",
       "4          atis_flight   631\n",
       "5     atis_flight_time     1\n",
       "6  atis_ground_service    36\n",
       "7        atis_quantity     3"
      ]
     },
     "execution_count": 18,
     "metadata": {},
     "output_type": "execute_result"
    }
   ],
   "source": [
    "test_data.groupby('intent')['text'].count().reset_index()"
   ]
  },
  {
   "cell_type": "code",
   "execution_count": 20,
   "metadata": {},
   "outputs": [],
   "source": [
    "test_data['response'] = test_data.apply(get_response, axis=1)"
   ]
  },
  {
   "cell_type": "code",
   "execution_count": 21,
   "metadata": {},
   "outputs": [
    {
     "data": {
      "text/html": [
       "<div>\n",
       "<style scoped>\n",
       "    .dataframe tbody tr th:only-of-type {\n",
       "        vertical-align: middle;\n",
       "    }\n",
       "\n",
       "    .dataframe tbody tr th {\n",
       "        vertical-align: top;\n",
       "    }\n",
       "\n",
       "    .dataframe thead th {\n",
       "        text-align: right;\n",
       "    }\n",
       "</style>\n",
       "<table border=\"1\" class=\"dataframe\">\n",
       "  <thead>\n",
       "    <tr style=\"text-align: right;\">\n",
       "      <th></th>\n",
       "      <th>intent</th>\n",
       "      <th>text</th>\n",
       "      <th>response</th>\n",
       "    </tr>\n",
       "  </thead>\n",
       "  <tbody>\n",
       "    <tr>\n",
       "      <th>0</th>\n",
       "      <td>atis_airfare</td>\n",
       "      <td>on april first i need a ticket from tacoma to...</td>\n",
       "      <td>Please visit atis_airfare.com</td>\n",
       "    </tr>\n",
       "    <tr>\n",
       "      <th>1</th>\n",
       "      <td>atis_flight</td>\n",
       "      <td>on april first i need a flight going from pho...</td>\n",
       "      <td>Please visit atis_flight.com</td>\n",
       "    </tr>\n",
       "    <tr>\n",
       "      <th>2</th>\n",
       "      <td>atis_flight</td>\n",
       "      <td>i would like a flight traveling one way from ...</td>\n",
       "      <td>Please visit atis_flight.com</td>\n",
       "    </tr>\n",
       "    <tr>\n",
       "      <th>3</th>\n",
       "      <td>atis_flight</td>\n",
       "      <td>i would like a flight from orlando to salt la...</td>\n",
       "      <td>Please visit atis_flight.com</td>\n",
       "    </tr>\n",
       "    <tr>\n",
       "      <th>4</th>\n",
       "      <td>atis_flight</td>\n",
       "      <td>i need a flight from toronto to newark one wa...</td>\n",
       "      <td>Please visit atis_flight.com</td>\n",
       "    </tr>\n",
       "    <tr>\n",
       "      <th>...</th>\n",
       "      <td>...</td>\n",
       "      <td>...</td>\n",
       "      <td>...</td>\n",
       "    </tr>\n",
       "    <tr>\n",
       "      <th>794</th>\n",
       "      <td>atis_flight</td>\n",
       "      <td>please find all the flights from cincinnati t...</td>\n",
       "      <td>Please visit atis_flight.com</td>\n",
       "    </tr>\n",
       "    <tr>\n",
       "      <th>795</th>\n",
       "      <td>atis_flight</td>\n",
       "      <td>find me a flight from cincinnati to any airpo...</td>\n",
       "      <td>Please visit atis_flight.com</td>\n",
       "    </tr>\n",
       "    <tr>\n",
       "      <th>796</th>\n",
       "      <td>atis_flight</td>\n",
       "      <td>i'd like to fly from miami to chicago on amer...</td>\n",
       "      <td>Please visit atis_flight.com</td>\n",
       "    </tr>\n",
       "    <tr>\n",
       "      <th>797</th>\n",
       "      <td>atis_flight</td>\n",
       "      <td>i would like to book a round trip flight from...</td>\n",
       "      <td>Please visit atis_flight.com</td>\n",
       "    </tr>\n",
       "    <tr>\n",
       "      <th>798</th>\n",
       "      <td>atis_flight</td>\n",
       "      <td>find me a flight that flies from memphis to t...</td>\n",
       "      <td>Please visit atis_flight.com</td>\n",
       "    </tr>\n",
       "  </tbody>\n",
       "</table>\n",
       "<p>799 rows × 3 columns</p>\n",
       "</div>"
      ],
      "text/plain": [
       "           intent                                               text  \\\n",
       "0    atis_airfare   on april first i need a ticket from tacoma to...   \n",
       "1     atis_flight   on april first i need a flight going from pho...   \n",
       "2     atis_flight   i would like a flight traveling one way from ...   \n",
       "3     atis_flight   i would like a flight from orlando to salt la...   \n",
       "4     atis_flight   i need a flight from toronto to newark one wa...   \n",
       "..            ...                                                ...   \n",
       "794   atis_flight   please find all the flights from cincinnati t...   \n",
       "795   atis_flight   find me a flight from cincinnati to any airpo...   \n",
       "796   atis_flight   i'd like to fly from miami to chicago on amer...   \n",
       "797   atis_flight   i would like to book a round trip flight from...   \n",
       "798   atis_flight   find me a flight that flies from memphis to t...   \n",
       "\n",
       "                          response  \n",
       "0    Please visit atis_airfare.com  \n",
       "1     Please visit atis_flight.com  \n",
       "2     Please visit atis_flight.com  \n",
       "3     Please visit atis_flight.com  \n",
       "4     Please visit atis_flight.com  \n",
       "..                             ...  \n",
       "794   Please visit atis_flight.com  \n",
       "795   Please visit atis_flight.com  \n",
       "796   Please visit atis_flight.com  \n",
       "797   Please visit atis_flight.com  \n",
       "798   Please visit atis_flight.com  \n",
       "\n",
       "[799 rows x 3 columns]"
      ]
     },
     "execution_count": 21,
     "metadata": {},
     "output_type": "execute_result"
    }
   ],
   "source": [
    "test_data"
   ]
  },
  {
   "cell_type": "code",
   "execution_count": 22,
   "metadata": {},
   "outputs": [],
   "source": [
    "# create json file for test datset\n",
    "intents = {'intents':[]}\n",
    "for i,j in test_data.groupby(['intent','response'])['text'].apply(list).reset_index().iterrows():\n",
    "    intents['intents'].append({'tag':j[0],\n",
    "                              'pattern':j[2],\n",
    "                              'response':j[1],\n",
    "                              'context':[]})"
   ]
  },
  {
   "cell_type": "code",
   "execution_count": 27,
   "metadata": {},
   "outputs": [],
   "source": [
    "# save the intents\n",
    "# save the json file\n",
    "import codecs, json\n",
    "with codecs.open('test_intent.json', 'w', 'utf8') as f:\n",
    "     f.write(json.dumps(intents, ensure_ascii=False))\n",
    "# intents"
   ]
  },
  {
   "cell_type": "code",
   "execution_count": null,
   "metadata": {},
   "outputs": [],
   "source": []
  }
 ],
 "metadata": {
  "kernelspec": {
   "display_name": "resume",
   "language": "python",
   "name": "resume"
  },
  "language_info": {
   "codemirror_mode": {
    "name": "ipython",
    "version": 3
   },
   "file_extension": ".py",
   "mimetype": "text/x-python",
   "name": "python",
   "nbconvert_exporter": "python",
   "pygments_lexer": "ipython3",
   "version": "3.7.4"
  }
 },
 "nbformat": 4,
 "nbformat_minor": 4
}
