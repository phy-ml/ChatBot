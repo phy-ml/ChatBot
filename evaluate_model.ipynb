{
 "cells": [
  {
   "cell_type": "code",
   "execution_count": 1,
   "metadata": {},
   "outputs": [],
   "source": [
    "import numpy as np\n",
    "import pandas as pd\n",
    "import joblib\n",
    "from collections import Counter\n",
    "import matplotlib.pyplot as plt\n",
    "%matplotlib inline\n",
    "from sklearn.ensemble import RandomForestClassifier\n",
    "from sklearn.metrics import accuracy_score, classification_report, plot_confusion_matrix\n",
    "from sklearn.preprocessing import LabelEncoder  "
   ]
  },
  {
   "cell_type": "code",
   "execution_count": 2,
   "metadata": {},
   "outputs": [],
   "source": [
    "# load the train and test datasets\n",
    "train = np.load('train.npy', allow_pickle=True) \n",
    "test = np.load('test.npy',allow_pickle=True)\n",
    "\n",
    "# load the trained model\n",
    "clf = joblib.load('rf.joblib')"
   ]
  },
  {
   "cell_type": "code",
   "execution_count": 3,
   "metadata": {},
   "outputs": [],
   "source": [
    "# process the training and test datasets\n",
    "train_x = np.array(list(train[:,0]))\n",
    "train_y = train[:,1]\n",
    "\n",
    "test_x = np.array(list(test[:,0]))\n",
    "test_y = test[:,1]\n",
    "\n",
    "# encode the targets\n",
    "label = LabelEncoder()\n",
    "en_train_y = label.fit_transform(train_y)\n",
    "en_test_y = label.fit_transform(test_y)\n",
    "\n",
    "# train map\n",
    "mapping = dict(zip(label.classes_, range(len(label.classes_))))"
   ]
  },
  {
   "cell_type": "markdown",
   "metadata": {},
   "source": [
    " # Anayze the model performance\n"
   ]
  },
  {
   "cell_type": "code",
   "execution_count": 4,
   "metadata": {},
   "outputs": [
    {
     "name": "stdout",
     "output_type": "stream",
     "text": [
      "Accuray on the train data: 1.0\n",
      "Accuray on the test data: 0.9411764705882353\n"
     ]
    }
   ],
   "source": [
    "# predict the performance on the train data set\n",
    "train_pred = clf.predict(np.array(list(train_x)))\n",
    "print('Accuray on the train data:',accuracy_score(en_train_y,train_pred))\n",
    "\n",
    "# predict the performance on the test dataset\n",
    "test_pred = clf.predict(np.array(list(test_x)))\n",
    "print('Accuray on the test data:',accuracy_score(en_test_y,test_pred))"
   ]
  },
  {
   "cell_type": "code",
   "execution_count": 5,
   "metadata": {},
   "outputs": [],
   "source": [
    "# mapping"
   ]
  },
  {
   "cell_type": "code",
   "execution_count": 6,
   "metadata": {},
   "outputs": [],
   "source": [
    "# clf = RandomForestClassifier()\n",
    "# clf.fit(np.array(list(train_x)),np.array(en_train_y))\n",
    "# pred = clf.predict(np.array(list(test_x)))"
   ]
  },
  {
   "cell_type": "code",
   "execution_count": 7,
   "metadata": {},
   "outputs": [],
   "source": [
    "# print(\"Accuracy:\", accuracy_score(en_test_y, pred))"
   ]
  },
  {
   "cell_type": "code",
   "execution_count": 8,
   "metadata": {},
   "outputs": [
    {
     "name": "stdout",
     "output_type": "stream",
     "text": [
      "                     precision    recall  f1-score   support\n",
      "\n",
      "  atis_abbreviation       1.00      1.00      1.00       147\n",
      "      atis_aircraft       1.00      1.00      1.00        81\n",
      "       atis_airfare       1.00      1.00      1.00       170\n",
      "       atis_airline       1.00      1.00      1.00       157\n",
      "        atis_flight       1.00      1.00      1.00       170\n",
      "   atis_flight_time       1.00      1.00      1.00        54\n",
      "atis_ground_service       1.00      1.00      1.00       170\n",
      "      atis_quantity       1.00      1.00      1.00        51\n",
      "\n",
      "           accuracy                           1.00      1000\n",
      "          macro avg       1.00      1.00      1.00      1000\n",
      "       weighted avg       1.00      1.00      1.00      1000\n",
      "\n"
     ]
    }
   ],
   "source": [
    "# Classicification report for train dataset\n",
    "print(classification_report(en_train_y,train_pred,target_names=mapping))"
   ]
  },
  {
   "cell_type": "code",
   "execution_count": 9,
   "metadata": {},
   "outputs": [
    {
     "name": "stdout",
     "output_type": "stream",
     "text": [
      "                     precision    recall  f1-score   support\n",
      "\n",
      "  atis_abbreviation       1.00      1.00      1.00        33\n",
      "      atis_aircraft       0.75      1.00      0.86         9\n",
      "       atis_airfare       0.64      1.00      0.78        48\n",
      "       atis_airline       0.75      1.00      0.85        38\n",
      "        atis_flight       1.00      0.93      0.96       631\n",
      "   atis_flight_time       1.00      1.00      1.00         1\n",
      "atis_ground_service       1.00      1.00      1.00        36\n",
      "      atis_quantity       0.43      1.00      0.60         3\n",
      "\n",
      "           accuracy                           0.94       799\n",
      "          macro avg       0.82      0.99      0.88       799\n",
      "       weighted avg       0.96      0.94      0.95       799\n",
      "\n"
     ]
    }
   ],
   "source": [
    "# Classicification report for test dataset\n",
    "print(classification_report(en_test_y,test_pred,target_names=mapping))"
   ]
  },
  {
   "cell_type": "markdown",
   "metadata": {},
   "source": [
    "## Plot the confusion matrix"
   ]
  },
  {
   "cell_type": "code",
   "execution_count": 10,
   "metadata": {},
   "outputs": [],
   "source": [
    "target_labels = []\n",
    "for i in mapping.keys():\n",
    "    target_labels.append(i)"
   ]
  },
  {
   "cell_type": "code",
   "execution_count": 11,
   "metadata": {},
   "outputs": [
    {
     "name": "stderr",
     "output_type": "stream",
     "text": [
      "C:\\Users\\Syahrir Ridha\\PycharmProjects\\resume_match\\venv\\lib\\site-packages\\sklearn\\utils\\deprecation.py:87: FutureWarning: Function plot_confusion_matrix is deprecated; Function `plot_confusion_matrix` is deprecated in 1.0 and will be removed in 1.2. Use one of the class methods: ConfusionMatrixDisplay.from_predictions or ConfusionMatrixDisplay.from_estimator.\n",
      "  warnings.warn(msg, category=FutureWarning)\n"
     ]
    },
    {
     "data": {
      "text/plain": [
       "<sklearn.metrics._plot.confusion_matrix.ConfusionMatrixDisplay at 0x186a2814308>"
      ]
     },
     "execution_count": 11,
     "metadata": {},
     "output_type": "execute_result"
    },
    {
     "data": {
      "image/png": "[encoded data removed]",
      "text/plain": [
       "<Figure size 432x288 with 2 Axes>"
      ]
     },
     "metadata": {
      "needs_background": "light"
     },
     "output_type": "display_data"
    }
   ],
   "source": [
    "# confusion matrix for the train data\n",
    "plot_confusion_matrix(clf,train_x,en_train_y)"
   ]
  },
  {
   "cell_type": "code",
   "execution_count": 12,
   "metadata": {},
   "outputs": [
    {
     "name": "stderr",
     "output_type": "stream",
     "text": [
      "C:\\Users\\Syahrir Ridha\\PycharmProjects\\resume_match\\venv\\lib\\site-packages\\sklearn\\utils\\deprecation.py:87: FutureWarning: Function plot_confusion_matrix is deprecated; Function `plot_confusion_matrix` is deprecated in 1.0 and will be removed in 1.2. Use one of the class methods: ConfusionMatrixDisplay.from_predictions or ConfusionMatrixDisplay.from_estimator.\n",
      "  warnings.warn(msg, category=FutureWarning)\n"
     ]
    },
    {
     "data": {
      "text/plain": [
       "<sklearn.metrics._plot.confusion_matrix.ConfusionMatrixDisplay at 0x186a5ceb888>"
      ]
     },
     "execution_count": 12,
     "metadata": {},
     "output_type": "execute_result"
    },
    {
     "data": {
      "image/png": "[encoded data removed]",
      "text/plain": [
       "<Figure size 432x288 with 2 Axes>"
      ]
     },
     "metadata": {
      "needs_background": "light"
     },
     "output_type": "display_data"
    }
   ],
   "source": [
    "# confusion matrix for test data\n",
    "plot_confusion_matrix(clf,test_x,en_test_y)"
   ]
  },
  {
   "cell_type": "markdown",
   "metadata": {},
   "source": [
    "## The lower bound for the probability is assumed to be 0.5"
   ]
  },
  {
   "cell_type": "code",
   "execution_count": 13,
   "metadata": {},
   "outputs": [],
   "source": [
    "#metrics to keep score of the correct, wrong and shown to human\n",
    "\n",
    "def metrics(clf,train_x,train_y,prob=0.5):\n",
    "    \n",
    "    predict = clf.predict_proba(train_x)\n",
    "    \n",
    "    dic = {0:{'corr':0,'human':0,'wrng':0,'total_data':0},\n",
    "          1:{'corr':0,'human':0,'wrng':0,'total_data':0},\n",
    "          2:{'corr':0,'human':0,'wrng':0,'total_data':0},\n",
    "          3:{'corr':0,'human':0,'wrng':0,'total_data':0},\n",
    "          4:{'corr':0,'human':0,'wrng':0,'total_data':0},\n",
    "          5:{'corr':0,'human':0,'wrng':0,'total_data':0},\n",
    "          6:{'corr':0,'human':0,'wrng':0,'total_data':0},\n",
    "          7:{'corr':0,'human':0,'wrng':0,'total_data':0}}\n",
    "    \n",
    "    for i,j in zip(predict,train_y):\n",
    "        prediction = np.where(i>prob)[0]\n",
    "        if prediction:\n",
    "            if prediction == j:\n",
    "                dic[j]['corr'] += 1\n",
    "            else:\n",
    "                dic[j]['wrng'] += 1\n",
    "        else:\n",
    "            dic[j]['human'] +=1\n",
    "    \n",
    "    # add the total data set\n",
    "    for key, val in Counter(train_y).items():\n",
    "        dic[key]['total_data'] += val\n",
    "    \n",
    "    df = pd.DataFrame(dic).T\n",
    "    #df.columns = target_labels\n",
    "    df.index = target_labels\n",
    "    df['corr%'] = np.round((df['corr']/df.total_data)*100,2)\n",
    "    df['human%'] = np.round((df['human']/df.total_data)*100,2)\n",
    "    df['wrong%'] = np.round((df['wrng']/df.total_data)*100,2)\n",
    "    return df"
   ]
  },
  {
   "cell_type": "code",
   "execution_count": 14,
   "metadata": {},
   "outputs": [
    {
     "data": {
      "text/html": [
       "<div>\n",
       "<style scoped>\n",
       "    .dataframe tbody tr th:only-of-type {\n",
       "        vertical-align: middle;\n",
       "    }\n",
       "\n",
       "    .dataframe tbody tr th {\n",
       "        vertical-align: top;\n",
       "    }\n",
       "\n",
       "    .dataframe thead th {\n",
       "        text-align: right;\n",
       "    }\n",
       "</style>\n",
       "<table border=\"1\" class=\"dataframe\">\n",
       "  <thead>\n",
       "    <tr style=\"text-align: right;\">\n",
       "      <th></th>\n",
       "      <th>corr</th>\n",
       "      <th>human</th>\n",
       "      <th>wrng</th>\n",
       "      <th>total_data</th>\n",
       "      <th>corr%</th>\n",
       "      <th>human%</th>\n",
       "      <th>wrong%</th>\n",
       "    </tr>\n",
       "  </thead>\n",
       "  <tbody>\n",
       "    <tr>\n",
       "      <th>atis_abbreviation</th>\n",
       "      <td>0</td>\n",
       "      <td>147</td>\n",
       "      <td>0</td>\n",
       "      <td>147</td>\n",
       "      <td>0.0</td>\n",
       "      <td>100.0</td>\n",
       "      <td>0.0</td>\n",
       "    </tr>\n",
       "    <tr>\n",
       "      <th>atis_aircraft</th>\n",
       "      <td>81</td>\n",
       "      <td>0</td>\n",
       "      <td>0</td>\n",
       "      <td>81</td>\n",
       "      <td>100.0</td>\n",
       "      <td>0.0</td>\n",
       "      <td>0.0</td>\n",
       "    </tr>\n",
       "    <tr>\n",
       "      <th>atis_airfare</th>\n",
       "      <td>170</td>\n",
       "      <td>0</td>\n",
       "      <td>0</td>\n",
       "      <td>170</td>\n",
       "      <td>100.0</td>\n",
       "      <td>0.0</td>\n",
       "      <td>0.0</td>\n",
       "    </tr>\n",
       "    <tr>\n",
       "      <th>atis_airline</th>\n",
       "      <td>157</td>\n",
       "      <td>0</td>\n",
       "      <td>0</td>\n",
       "      <td>157</td>\n",
       "      <td>100.0</td>\n",
       "      <td>0.0</td>\n",
       "      <td>0.0</td>\n",
       "    </tr>\n",
       "    <tr>\n",
       "      <th>atis_flight</th>\n",
       "      <td>170</td>\n",
       "      <td>0</td>\n",
       "      <td>0</td>\n",
       "      <td>170</td>\n",
       "      <td>100.0</td>\n",
       "      <td>0.0</td>\n",
       "      <td>0.0</td>\n",
       "    </tr>\n",
       "    <tr>\n",
       "      <th>atis_flight_time</th>\n",
       "      <td>54</td>\n",
       "      <td>0</td>\n",
       "      <td>0</td>\n",
       "      <td>54</td>\n",
       "      <td>100.0</td>\n",
       "      <td>0.0</td>\n",
       "      <td>0.0</td>\n",
       "    </tr>\n",
       "    <tr>\n",
       "      <th>atis_ground_service</th>\n",
       "      <td>170</td>\n",
       "      <td>0</td>\n",
       "      <td>0</td>\n",
       "      <td>170</td>\n",
       "      <td>100.0</td>\n",
       "      <td>0.0</td>\n",
       "      <td>0.0</td>\n",
       "    </tr>\n",
       "    <tr>\n",
       "      <th>atis_quantity</th>\n",
       "      <td>51</td>\n",
       "      <td>0</td>\n",
       "      <td>0</td>\n",
       "      <td>51</td>\n",
       "      <td>100.0</td>\n",
       "      <td>0.0</td>\n",
       "      <td>0.0</td>\n",
       "    </tr>\n",
       "  </tbody>\n",
       "</table>\n",
       "</div>"
      ],
      "text/plain": [
       "                     corr  human  wrng  total_data  corr%  human%  wrong%\n",
       "atis_abbreviation       0    147     0         147    0.0   100.0     0.0\n",
       "atis_aircraft          81      0     0          81  100.0     0.0     0.0\n",
       "atis_airfare          170      0     0         170  100.0     0.0     0.0\n",
       "atis_airline          157      0     0         157  100.0     0.0     0.0\n",
       "atis_flight           170      0     0         170  100.0     0.0     0.0\n",
       "atis_flight_time       54      0     0          54  100.0     0.0     0.0\n",
       "atis_ground_service   170      0     0         170  100.0     0.0     0.0\n",
       "atis_quantity          51      0     0          51  100.0     0.0     0.0"
      ]
     },
     "execution_count": 14,
     "metadata": {},
     "output_type": "execute_result"
    }
   ],
   "source": [
    "# metrics for train data\n",
    "metrics(clf,train_x,en_train_y)"
   ]
  },
  {
   "cell_type": "code",
   "execution_count": 15,
   "metadata": {},
   "outputs": [
    {
     "name": "stderr",
     "output_type": "stream",
     "text": [
      "C:\\Users\\Syahrir Ridha\\PycharmProjects\\resume_match\\venv\\lib\\site-packages\\ipykernel_launcher.py:18: DeprecationWarning: The truth value of an empty array is ambiguous. Returning False, but in future this will result in an error. Use `array.size > 0` to check that an array is not empty.\n"
     ]
    },
    {
     "data": {
      "text/html": [
       "<div>\n",
       "<style scoped>\n",
       "    .dataframe tbody tr th:only-of-type {\n",
       "        vertical-align: middle;\n",
       "    }\n",
       "\n",
       "    .dataframe tbody tr th {\n",
       "        vertical-align: top;\n",
       "    }\n",
       "\n",
       "    .dataframe thead th {\n",
       "        text-align: right;\n",
       "    }\n",
       "</style>\n",
       "<table border=\"1\" class=\"dataframe\">\n",
       "  <thead>\n",
       "    <tr style=\"text-align: right;\">\n",
       "      <th></th>\n",
       "      <th>corr</th>\n",
       "      <th>human</th>\n",
       "      <th>wrng</th>\n",
       "      <th>total_data</th>\n",
       "      <th>corr%</th>\n",
       "      <th>human%</th>\n",
       "      <th>wrong%</th>\n",
       "    </tr>\n",
       "  </thead>\n",
       "  <tbody>\n",
       "    <tr>\n",
       "      <th>atis_abbreviation</th>\n",
       "      <td>0</td>\n",
       "      <td>33</td>\n",
       "      <td>0</td>\n",
       "      <td>33</td>\n",
       "      <td>0.00</td>\n",
       "      <td>100.00</td>\n",
       "      <td>0.00</td>\n",
       "    </tr>\n",
       "    <tr>\n",
       "      <th>atis_aircraft</th>\n",
       "      <td>8</td>\n",
       "      <td>1</td>\n",
       "      <td>0</td>\n",
       "      <td>9</td>\n",
       "      <td>88.89</td>\n",
       "      <td>11.11</td>\n",
       "      <td>0.00</td>\n",
       "    </tr>\n",
       "    <tr>\n",
       "      <th>atis_airfare</th>\n",
       "      <td>45</td>\n",
       "      <td>3</td>\n",
       "      <td>0</td>\n",
       "      <td>48</td>\n",
       "      <td>93.75</td>\n",
       "      <td>6.25</td>\n",
       "      <td>0.00</td>\n",
       "    </tr>\n",
       "    <tr>\n",
       "      <th>atis_airline</th>\n",
       "      <td>38</td>\n",
       "      <td>0</td>\n",
       "      <td>0</td>\n",
       "      <td>38</td>\n",
       "      <td>100.00</td>\n",
       "      <td>0.00</td>\n",
       "      <td>0.00</td>\n",
       "    </tr>\n",
       "    <tr>\n",
       "      <th>atis_flight</th>\n",
       "      <td>541</td>\n",
       "      <td>54</td>\n",
       "      <td>36</td>\n",
       "      <td>631</td>\n",
       "      <td>85.74</td>\n",
       "      <td>8.56</td>\n",
       "      <td>5.71</td>\n",
       "    </tr>\n",
       "    <tr>\n",
       "      <th>atis_flight_time</th>\n",
       "      <td>1</td>\n",
       "      <td>0</td>\n",
       "      <td>0</td>\n",
       "      <td>1</td>\n",
       "      <td>100.00</td>\n",
       "      <td>0.00</td>\n",
       "      <td>0.00</td>\n",
       "    </tr>\n",
       "    <tr>\n",
       "      <th>atis_ground_service</th>\n",
       "      <td>36</td>\n",
       "      <td>0</td>\n",
       "      <td>0</td>\n",
       "      <td>36</td>\n",
       "      <td>100.00</td>\n",
       "      <td>0.00</td>\n",
       "      <td>0.00</td>\n",
       "    </tr>\n",
       "    <tr>\n",
       "      <th>atis_quantity</th>\n",
       "      <td>3</td>\n",
       "      <td>0</td>\n",
       "      <td>0</td>\n",
       "      <td>3</td>\n",
       "      <td>100.00</td>\n",
       "      <td>0.00</td>\n",
       "      <td>0.00</td>\n",
       "    </tr>\n",
       "  </tbody>\n",
       "</table>\n",
       "</div>"
      ],
      "text/plain": [
       "                     corr  human  wrng  total_data   corr%  human%  wrong%\n",
       "atis_abbreviation       0     33     0          33    0.00  100.00    0.00\n",
       "atis_aircraft           8      1     0           9   88.89   11.11    0.00\n",
       "atis_airfare           45      3     0          48   93.75    6.25    0.00\n",
       "atis_airline           38      0     0          38  100.00    0.00    0.00\n",
       "atis_flight           541     54    36         631   85.74    8.56    5.71\n",
       "atis_flight_time        1      0     0           1  100.00    0.00    0.00\n",
       "atis_ground_service    36      0     0          36  100.00    0.00    0.00\n",
       "atis_quantity           3      0     0           3  100.00    0.00    0.00"
      ]
     },
     "execution_count": 15,
     "metadata": {},
     "output_type": "execute_result"
    }
   ],
   "source": [
    "# metrics for test data\n",
    "metrics(clf,test_x,en_test_y)"
   ]
  },
  {
   "cell_type": "code",
   "execution_count": null,
   "metadata": {},
   "outputs": [],
   "source": []
  },
  {
   "cell_type": "code",
   "execution_count": null,
   "metadata": {},
   "outputs": [],
   "source": []
  }
 ],
 "metadata": {
  "kernelspec": {
   "display_name": "resume",
   "language": "python",
   "name": "resume"
  },
  "language_info": {
   "codemirror_mode": {
    "name": "ipython",
    "version": 3
   },
   "file_extension": ".py",
   "mimetype": "text/x-python",
   "name": "python",
   "nbconvert_exporter": "python",
   "pygments_lexer": "ipython3",
   "version": "3.7.4"
  }
 },
 "nbformat": 4,
 "nbformat_minor": 4
}
